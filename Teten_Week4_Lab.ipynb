{
 "cells": [
  {
   "cell_type": "code",
   "execution_count": 37,
   "metadata": {},
   "outputs": [
    {
     "name": "stdout",
     "output_type": "stream",
     "text": [
      "0\n",
      "1\n",
      "2\n",
      "4\n",
      "5\n"
     ]
    }
   ],
   "source": [
    "#4.1 Print numbers from 0-6 except 3 and 6\n",
    "\n",
    "for i in range(0,6):\n",
    "    if i ==3:\n",
    "        continue\n",
    "    if i==6:\n",
    "        continue\n",
    "    print(i)"
   ]
  },
  {
   "cell_type": "code",
   "execution_count": 61,
   "metadata": {},
   "outputs": [
    {
     "data": {
      "text/plain": [
       "True"
      ]
     },
     "execution_count": 61,
     "metadata": {},
     "output_type": "execute_result"
    }
   ],
   "source": [
    "#4.2 Password Validity\n",
    "\n",
    "def password_check(password): \n",
    "\n",
    "    valid = True\n",
    "    \n",
    "    if len(password) < 6: \n",
    "        valid = False\n",
    "          \n",
    "    if len(password) > 20: \n",
    "        valid = False\n",
    "          \n",
    "    if not any(char.isdigit() for char in password):  \n",
    "        valid = False\n",
    "          \n",
    "    if not any(char.isupper() for char in password):  \n",
    "        valid = False\n",
    "          \n",
    "    if not any(char.islower() for char in password): \n",
    "        valid = False\n",
    "          \n",
    "    if not any(char in ['$', '@', '#', '%'] for char in password): \n",
    "        valid = False\n",
    "        \n",
    "    else: \n",
    "        return valid \n",
    " \n",
    "password_check('How%about0this?')"
   ]
  },
  {
   "cell_type": "code",
   "execution_count": 51,
   "metadata": {},
   "outputs": [
    {
     "name": "stdout",
     "output_type": "stream",
     "text": [
      "* \n",
      "* * \n",
      "* * * \n",
      "* * * * \n",
      "* * * * * \n",
      "* * * * - \n",
      "* * * - - \n",
      "* * - - - \n",
      "* - - - - \n"
     ]
    }
   ],
   "source": [
    "#4.3 Pattern using nested for loop\n",
    "\n",
    "width=5\n",
    "\n",
    "for i in range(0,width*2):\n",
    "    if i < width:\n",
    "        for j in range(0,i+1):\n",
    "            print(\"*\",end=\" \")\n",
    "        print()\n",
    "    if i > width:\n",
    "        for j in range(0,j):\n",
    "            print(\"*\",end=\" \")\n",
    "        for n in range(0,width-1-j):\n",
    "            print(\"-\",end=\" \")\n",
    "        print()"
   ]
  },
  {
   "cell_type": "code",
   "execution_count": 60,
   "metadata": {
    "scrolled": true
   },
   "outputs": [
    {
     "name": "stdout",
     "output_type": "stream",
     "text": [
      "Safest Model: Chevy Silverado\n",
      "The safest brand of pickups: Chevy\n",
      "The safest brand of sedans: Honda\n",
      "The safest brand of SUVs: Ford\n",
      "Total Ford Accidents: 212\n",
      "Total Chevy Accidents: 147\n",
      "Total Honda Accidents: 201\n",
      "Total Pickup Accidents: 56\n",
      "Total Sedan Accidents: 165\n",
      "Total SUV Accidents: 339\n"
     ]
    }
   ],
   "source": [
    "#4.4 Car lists\n",
    "Brand=['Ford', 'Ford', 'Chevy', 'Chevy', 'Honda', 'Ford', 'Honda', 'Honda', 'Ford', 'Chevy']\n",
    "Model=['F150', 'Escape', 'Charger', 'Charger', 'Civic', 'Escape', 'CRV', 'CRV', 'F150', 'Silverado']\n",
    "Type=['Pickup', 'SUV', 'Sedan', 'Sedan', 'Sedan', 'SUV', 'SUV', 'SUV', 'Pickup', 'Pickup']\n",
    "Accidents_each_year=[25, 79, 46, 90, 29, 88, 79, 93, 20, 11]\n",
    "\n",
    "leastaccid=Accidents_each_year.index(min(Accidents_each_year))\n",
    "b=Brand[leastaccid]\n",
    "m=Model[leastaccid]\n",
    "print('Safest Model:',b,m)\n",
    "\n",
    "def getBrand(list1,string):\n",
    "    values = []\n",
    "    for a in range(len(list1)): \n",
    "        if list1[a] == string:\n",
    "            c=Accidents_each_year[a]\n",
    "            values.append(c)\n",
    "            accmin=Accidents_each_year.index(min(values))\n",
    "            br=Brand[accmin]\n",
    "    return br\n",
    "\n",
    "def sumaccidents(list2,string2):\n",
    "    values = []\n",
    "    for a in range(len(list2)): \n",
    "        if list2[a] == string2:\n",
    "            c=Accidents_each_year[a]\n",
    "            values.append(c)\n",
    "            accsum=sum(values)\n",
    "    return accsum\n",
    "\n",
    "print('The safest brand of pickups:', getBrand(Type,'Pickup'))       \n",
    "print('The safest brand of sedans:', getBrand(Type,'Sedan'))\n",
    "print('The safest brand of SUVs:',getBrand(Type,'SUV'))\n",
    "print('Total Ford Accidents:', sumaccidents(Brand,'Ford'))\n",
    "print('Total Chevy Accidents:',sumaccidents(Brand,'Chevy'))\n",
    "print('Total Honda Accidents:',sumaccidents(Brand,'Honda'))\n",
    "print('Total Pickup Accidents:',sumaccidents(Type,'Pickup'))\n",
    "print('Total Sedan Accidents:',sumaccidents(Type,'Sedan'))\n",
    "print('Total SUV Accidents:',sumaccidents(Type,'SUV'))"
   ]
  },
  {
   "cell_type": "code",
   "execution_count": 110,
   "metadata": {},
   "outputs": [
    {
     "name": "stdout",
     "output_type": "stream",
     "text": [
      "Index of Cold Days= [0, 3, 6, 8, 9, 11, 12, 15, 17, 18, 21, 23, 24, 26, 27]\n",
      "Index of Slippery Days= [1, 2, 5, 16, 19, 20, 22, 29, 30, 33, 39, 41, 42, 60, 63, 81]\n",
      "Index of Comfortable Days= [4, 7, 10, 13, 14, 25, 28, 31, 32, 34, 35, 36, 37, 38, 40, 43, 44, 45, 46, 47, 48, 49, 50, 51, 52, 53, 54, 55, 56, 57, 58, 59, 61, 62, 64, 65, 66, 67, 68, 69, 70, 71, 72, 73, 74, 75, 76, 77, 78, 79, 80, 82, 83, 84, 85, 86, 87, 88, 89]\n",
      "Index of Warm Days= []\n",
      "\n",
      "Mean Cold Temperature: -3.913333333333333\n",
      "Mean Slippery Temperature: 0.625\n",
      "Mean Comfortable Temperature: 5.018644067796609\n",
      "Mean Warm Temperature: 0\n"
     ]
    }
   ],
   "source": [
    "temperatures=[-5.4,1.0,-1.3,-4.8,3.9,0.1,-4.4,4.0,-2.2,-3.9,4.4,-2.5,-4.6,5.1, 2.1,-2.4,1.9,\n",
    "              -3.3,-4.8,1.0,-0.8,-2.8,-0.1,-4.7,-5.6,2.6,-2.7,-4.6,3.4,-0.4,-0.9,3.1,2.4,1.6,\n",
    "              4.2,3.5,2.6,3.1,2.2,1.8,3.3,1.6,1.5,4.7,4.0,3.6,4.9,4.8,5.3,5.6,4.1,3.7,7.6,\n",
    "              6.9,5.1,6.4,3.8,4.0,8.6,4.1,1.4,8.9,3.0,1.6,8.5,4.7,6.6,8.1,4.5,4.8,11.3,4.7,5.2,\n",
    "              11.5,6.2,2.9,4.3,2.8,2.8,6.3,2.6,-0.0,7.3,3.4,4.7,9.3,6.4,5.4,7.6,5.2]\n",
    "\n",
    "coldindex=[]\n",
    "slipindex=[]\n",
    "comfindex=[]\n",
    "warmindex=[]\n",
    "warmavg=0\n",
    "coldPosList = []\n",
    "slipPosList = []\n",
    "comfPosList = []\n",
    "warmPosList = []\n",
    "\n",
    "for i, t in enumerate(temperatures):\n",
    "    if t <= -2:\n",
    "        coldindex.append(t)\n",
    "        coldavg=sum(coldindex)/len(coldindex)\n",
    "        coldPosList.append(i)\n",
    "    elif t <=2:\n",
    "        slipindex.append(t)\n",
    "        slipavg=sum(slipindex)/len(slipindex)\n",
    "        slipPosList.append(i)\n",
    "    elif t <= 15:\n",
    "        comfindex.append(t)\n",
    "        comfavg=sum(comfindex)/len(comfindex)\n",
    "        comfPosList.append(i)\n",
    "    else:\n",
    "        warmindex.append(t)\n",
    "        if len(warmindex) == 0:\n",
    "            warmavg = 0\n",
    "        else:\n",
    "            warmavg=sum(warmindex)/len(warmindex)\n",
    "        warmPosList.append(i)\n",
    "        \n",
    "print('Index of Cold Days=',coldPosList)\n",
    "print('Index of Slippery Days=',slipPosList)\n",
    "print('Index of Comfortable Days=',comfPosList)\n",
    "print('Index of Warm Days=',warmPosList)\n",
    "print()\n",
    "print('Mean Cold Temperature:', coldavg)\n",
    "print('Mean Slippery Temperature:', slipavg)\n",
    "print('Mean Comfortable Temperature:', comfavg)\n",
    "print('Mean Warm Temperature:', warmavg)"
   ]
  },
  {
   "cell_type": "code",
   "execution_count": 118,
   "metadata": {},
   "outputs": [
    {
     "name": "stdout",
     "output_type": "stream",
     "text": [
      "The input string is pwwkew\n",
      "The length of the longest non-repeating charactersubstring is 3\n"
     ]
    }
   ],
   "source": [
    "#4.6 Longest Substring\n",
    "\n",
    "NO_OF_CHARS = 256\n",
    "  \n",
    "def longestUniqueSubsttr(string): \n",
    "    n = len(string) \n",
    "    cur_len = 1 \n",
    "    max_len = 1       \n",
    "    prev_index = 0     \n",
    "    i = 0\n",
    "    visited = [-1] * NO_OF_CHARS \n",
    "    visited[ord(string[0])] = 0\n",
    "  \n",
    "    for i in range(1, n): \n",
    "        prev_index = visited[ord(string[i])] \n",
    "  \n",
    "        if prev_index == -1 or (i - cur_len > prev_index): \n",
    "            cur_len+= 1\n",
    "  \n",
    "        else: \n",
    "            if cur_len > max_len: \n",
    "                max_len = cur_len \n",
    "  \n",
    "            cur_len = i - prev_index \n",
    "  \n",
    "        visited[ord(string[i])] = i \n",
    "\n",
    "    if cur_len > max_len: \n",
    "        max_len = cur_len \n",
    "  \n",
    "    return max_len \n",
    "  \n",
    "string = 'pwwkew'\n",
    "print('The input string is ' + string) \n",
    "length = longestUniqueSubsttr(string) \n",
    "print('The length of the longest non-repeating character' +\n",
    "       'substring is '+ str(length))\n"
   ]
  },
  {
   "cell_type": "code",
   "execution_count": 135,
   "metadata": {},
   "outputs": [
    {
     "name": "stdout",
     "output_type": "stream",
     "text": [
      "[(-1, 2, -1), (0, 1, -1), (0, -1, 1), (2, -3, 1)]\n"
     ]
    }
   ],
   "source": [
    "#4.7 Unique triplets that gives sum of zero\n",
    "alllist=[]\n",
    "\n",
    "def findTriplets(arr, n): \n",
    "  \n",
    "    found = True\n",
    "    for i in range(0, n-2): \n",
    "      \n",
    "        for j in range(i+1, n-1): \n",
    "          \n",
    "            for k in range(j+1, n): \n",
    "              \n",
    "                if (arr[i] + arr[j] + arr[k] == 0): \n",
    "                    trio=[]\n",
    "                    trio = (arr[i], arr[j], arr[k])\n",
    "                    alllist.append(trio)\n",
    "                    found = True\n",
    "      \n",
    "\n",
    "    if (found == False): \n",
    "        print(\" not exist \")\n",
    "    return alllist\n",
    "  \n",
    "arr = [0, -1, 2, -3, 1,-1,1] \n",
    "n = len(arr)\n",
    "findTriplets(arr, n)\n",
    "\n",
    "noduplicates=list(set(alllist))\n",
    "print(noduplicates)"
   ]
  }
 ],
 "metadata": {
  "kernelspec": {
   "display_name": "Python 3",
   "language": "python",
   "name": "python3"
  },
  "language_info": {
   "codemirror_mode": {
    "name": "ipython",
    "version": 3
   },
   "file_extension": ".py",
   "mimetype": "text/x-python",
   "name": "python",
   "nbconvert_exporter": "python",
   "pygments_lexer": "ipython3",
   "version": "3.7.4"
  }
 },
 "nbformat": 4,
 "nbformat_minor": 4
}
